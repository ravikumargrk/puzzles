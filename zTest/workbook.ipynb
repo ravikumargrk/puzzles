{
 "cells": [
  {
   "cell_type": "markdown",
   "metadata": {},
   "source": [
    "### 35: Z Test"
   ]
  },
  {
   "cell_type": "code",
   "execution_count": 2,
   "metadata": {},
   "outputs": [],
   "source": [
    "# Framework for hypothesis testing\n",
    "# 1. Setup Null and Alternate Hypothesis\n",
    "# 2. Choose the test statistic\n",
    "# 3. Select the Left vs Right vs Two-Tailed test, as per the hypothesis\n",
    "# 4. Compute the P-Value\n",
    "# 5. Compare the P-Value to the Significance Level (α) and conclude the test."
   ]
  },
  {
   "cell_type": "code",
   "execution_count": 3,
   "metadata": {},
   "outputs": [],
   "source": [
    "from scipy.stats import norm\n",
    "\n",
    "def zTest(\n",
    "    sampleMean,\n",
    "    sampleSize,\n",
    "    populationMean,\n",
    "    populationStd,\n",
    "    alternative=\"two-sided\",\n",
    "    alpha=None,\n",
    "):\n",
    "    SE = populationStd / (sampleSize**0.5)\n",
    "    z = (sampleMean - populationMean) / SE\n",
    "\n",
    "    # calculate p\n",
    "    if alternative == \"less\":\n",
    "        p = norm.cdf(z)\n",
    "    if alternative == \"greater\":\n",
    "        p = 1 - norm.cdf(z)\n",
    "    if alternative == \"two-sided\":\n",
    "        p = 2 * (1 - norm.cdf(abs(z)))\n",
    "\n",
    "    zRejectionRange = None\n",
    "    if alpha:\n",
    "        # z critical\n",
    "        if alternative == \"less\":\n",
    "            zRejectionRange = (-float(\"inf\"), norm.ppf(alpha))\n",
    "        if alternative == \"greater\":\n",
    "            zRejectionRange = (norm.ppf(1 - alpha), float(\"inf\"))\n",
    "        if alternative == \"two-sided\":\n",
    "            zRejectionRange = (-norm.ppf(1 - alpha / 2), +norm.ppf(1 - alpha / 2))\n",
    "\n",
    "    return p, z, zRejectionRange"
   ]
  },
  {
   "cell_type": "markdown",
   "metadata": {
    "vscode": {
     "languageId": "html"
    }
   },
   "source": [
    "Question 1\n",
    "\n",
    "A country has a population average height of 65 inches with a standard deviation of 2.5. A person feels people from his state are shorter. He takes the average of 20 people and sees that it is 64.5.\n",
    "\n",
    "At a 5% significance level (or 95% confidence level), can we conclude that people from his state are shorter, using the Z-test? What is the p-value?"
   ]
  },
  {
   "cell_type": "code",
   "execution_count": 4,
   "metadata": {},
   "outputs": [
    {
     "name": "stdout",
     "output_type": "stream",
     "text": [
      "p value = 0.186\n",
      "zRejectionRange = (-inf, -1.6448536269514729), z = -0.8944271909999159\n",
      "Failed to reject: Average population in his state = 65\n"
     ]
    }
   ],
   "source": [
    "alpha = 0.05\n",
    "\n",
    "# Framework for hypothesis testing\n",
    "# 1. Setup Null and Alternate Hypothesis\n",
    "H0 = \"Average population in his state = 65\"\n",
    "H1 = \"Average population in his state < 65\"\n",
    "\n",
    "# 2. Choose the test statistic\n",
    "test = zTest\n",
    "\n",
    "# 3. Select the Left vs Right vs Two-Tailed test, as per the hypothesis\n",
    "alternative = \"less\"\n",
    "\n",
    "# 4. Compute the P-Value\n",
    "p, z, zRejectionRange = test(64.5, 20, 65, 2.5, alternative, alpha)\n",
    "print(f\"p value = {round(p, 3)}\")\n",
    "print(f\"zRejectionRange = {zRejectionRange}, z = {z}\")\n",
    "\n",
    "# 5. Compare the P-Value to the Significance Level (α) and conclude the test.\n",
    "alpha = 0.05\n",
    "\n",
    "if p < alpha:\n",
    "    print(f\"Reject: {H0}\")\n",
    "else:\n",
    "    print(f\"Failed to reject: {H0}\")"
   ]
  },
  {
   "cell_type": "markdown",
   "metadata": {
    "vscode": {
     "languageId": "raw"
    }
   },
   "source": [
    "Question 2\n",
    "\n",
    "A French cafe has historically maintained that their average daily pastry production is at most 500.\n",
    "\n",
    "With the installation of a new machine, they assert that the average daily pastry production has increased. The average number of pastries produced per day over a 70-day period was found to be 530.\n",
    "\n",
    "Assume that the population standard deviation for the pastries produced per day is 125.\n",
    "\n",
    "Perform a z-test with the critical z-value = 1.64 at the alpha (significance level) = 0.05 to evaluate if there's sufficient evidence to support their claim of the new machine producing more than 500 pastries daily.\n",
    "\n",
    "Note: Round off the z-score to two decimal places."
   ]
  },
  {
   "cell_type": "code",
   "execution_count": 5,
   "metadata": {},
   "outputs": [
    {
     "name": "stdout",
     "output_type": "stream",
     "text": [
      "p value = 0.022\n",
      "zRejectionRange = (1.6448536269514722, inf), z = 2.007984063681781\n",
      "Reject: Average daily pastry production = 500\n"
     ]
    }
   ],
   "source": [
    "alpha = 0.05\n",
    "\n",
    "# Framework for hypothesis testing\n",
    "# 1. Setup Null and Alternate Hypothesis\n",
    "H0 = \"Average daily pastry production = 500\"\n",
    "H1 = \"Average daily pastry production > 500\"\n",
    "\n",
    "# 2. Choose the test statistic\n",
    "test = zTest\n",
    "\n",
    "# 3. Select the Left vs Right vs Two-Tailed test, as per the hypothesis\n",
    "alternative = \"greater\"\n",
    "\n",
    "# 4. Compute the P-Value\n",
    "p, z, zRejectionRange = test(530, 70, 500, 125, alternative, alpha)\n",
    "print(f\"p value = {round(p, 3)}\")\n",
    "print(f\"zRejectionRange = {zRejectionRange}, z = {z}\")\n",
    "\n",
    "# 5. Compare the P-Value to the Significance Level (α) and conclude the test.\n",
    "alpha = 0.05\n",
    "\n",
    "if p < alpha:\n",
    "    print(f\"Reject: {H0}\")\n",
    "else:\n",
    "    print(f\"Failed to reject: {H0}\")"
   ]
  },
  {
   "cell_type": "markdown",
   "metadata": {
    "vscode": {
     "languageId": "raw"
    }
   },
   "source": [
    "Question 3\n",
    "\n",
    "The Chai Point stall at Bengaluru airport estimates that each person visiting the store drinks an average of 1.7 small cups of tea.\n",
    "\n",
    "Assume a population standard deviation of 0.5 small cups. A sample of 30 customers collected over a few days averaged 1.85 small cups of tea per person.\n",
    "\n",
    "Test the claim using an appropriate test at an alpha = 0.05 significance value, with a critical z-score value of ±1.96.\n",
    "\n",
    "Note: Round off the z-score to two decimal places"
   ]
  },
  {
   "cell_type": "code",
   "execution_count": 6,
   "metadata": {},
   "outputs": [
    {
     "name": "stdout",
     "output_type": "stream",
     "text": [
      "p value = 0.1\n",
      "zRejectionRange = (-1.959963984540054, 1.959963984540054), z = 1.6431676725155\n",
      "Failed to reject: Average number small cups of tea per person = 1.7\n"
     ]
    }
   ],
   "source": [
    "alpha = 0.05\n",
    "\n",
    "# Framework for hypothesis testing\n",
    "# 1. Setup Null and Alternate Hypothesis\n",
    "H0 = \"Average number small cups of tea per person = 1.7\"\n",
    "H1 = \"Average number small cups of tea per person != 1.7\"\n",
    "\n",
    "# 2. Choose the test statistic\n",
    "test = zTest\n",
    "\n",
    "# 3. Select the Left vs Right vs Two-Tailed test, as per the hypothesis\n",
    "alternative = \"two-sided\"\n",
    "\n",
    "# 4. Compute the P-Value\n",
    "p, z, zRejectionRange = test(1.85, 30, 1.7, 0.5, alternative, alpha)\n",
    "print(f\"p value = {round(p, 3)}\")\n",
    "print(f\"zRejectionRange = {zRejectionRange}, z = {z}\")\n",
    "\n",
    "# 5. Compare the P-Value to the Significance Level (α) and conclude the test.\n",
    "alpha = 0.05\n",
    "\n",
    "if p < alpha:\n",
    "    print(f\"Reject: {H0}\")\n",
    "else:\n",
    "    print(f\"Failed to reject: {H0}\")"
   ]
  },
  {
   "cell_type": "markdown",
   "metadata": {
    "vscode": {
     "languageId": "raw"
    }
   },
   "source": [
    "Question 4\n",
    "\n",
    "A data scientist is looking at how a web application responds, with an average response time of 250 milliseconds and a standard deviation of 30 milliseconds.\n",
    "\n",
    "Find the critical value for a 96% confidence level."
   ]
  },
  {
   "cell_type": "code",
   "execution_count": 7,
   "metadata": {},
   "outputs": [
    {
     "data": {
      "text/plain": [
       "array([188.38753268, 311.61246732])"
      ]
     },
     "execution_count": 7,
     "metadata": {},
     "output_type": "execute_result"
    }
   ],
   "source": [
    "_, _, zRejectionRange = zTest(0, 1, 250, 30, alpha=(1-0.96))\n",
    "\n",
    "from numpy import array\n",
    "250 + array(zRejectionRange)*30"
   ]
  },
  {
   "cell_type": "markdown",
   "metadata": {
    "vscode": {
     "languageId": "raw"
    }
   },
   "source": [
    "Question 5\n",
    "\n",
    "A marketing team aims to estimate the average time, visitors spend on their website.\n",
    "\n",
    "They gathered a random sample of 100 visitors and determined that the average time spent on the website was 4.5 minutes.\n",
    "\n",
    "The team is working under the assumption that the population's mean time spent on the website is 4.0 minutes, with a standard deviation of 1.2 minutes.\n",
    "\n",
    "Their goal is to estimate the true time spent on the website with a 95% confidence level. Calculate the confidence interval values and make a conclusion based on the calculated interval."
   ]
  },
  {
   "cell_type": "code",
   "execution_count": 14,
   "metadata": {},
   "outputs": [
    {
     "data": {
      "text/plain": [
       "array([4.26480432, 4.73519568])"
      ]
     },
     "execution_count": 14,
     "metadata": {},
     "output_type": "execute_result"
    }
   ],
   "source": [
    "# CI = Sample Mean ± (Z * (σ / √n))\n",
    "sampleMean = 4.5\n",
    "populationMean = 4\n",
    "\n",
    "populationStd = 1.2\n",
    "sampleSize = 100\n",
    "SE = populationStd/(sampleSize**0.5)\n",
    "\n",
    "# two-side\n",
    "alpha = 0.05\n",
    "Z = norm.ppf(1 - alpha/2)\n",
    "\n",
    "sampleMean + array([-Z*SE, +Z*SE])"
   ]
  },
  {
   "cell_type": "markdown",
   "metadata": {},
   "source": [
    "Question 7\n",
    "\n",
    "It is known that the mean IQ of high school students is 100, and the standard deviation is 15.\n",
    "\n",
    "A coaching institute claims that candidates who study there have more IQ than an average high school student. When the IQ of 50 candidates was calculated, the average turned out to be 110\n",
    "\n",
    "Conduct an appropriate hypothesis test to test the institute’s claim, with a significance level of 5%"
   ]
  },
  {
   "cell_type": "code",
   "execution_count": 16,
   "metadata": {},
   "outputs": [
    {
     "name": "stdout",
     "output_type": "stream",
     "text": [
      "p value = 1.2142337364462463e-06\n",
      "zRejectionRange = (1.6448536269514722, inf), z = 4.714045207910317\n",
      "Reject: Average IQ of school students who studied at coaching centre = 100\n"
     ]
    }
   ],
   "source": [
    "alpha = 0.05\n",
    "\n",
    "# Framework for hypothesis testing\n",
    "# 1. Setup Null and Alternate Hypothesis\n",
    "H0 = \"Average IQ of school students who studied at coaching centre = 100\"\n",
    "H1 = \"Average IQ of school students who studied at coaching centre > 100\"\n",
    "\n",
    "# 2. Choose the test statistic\n",
    "test = zTest\n",
    "\n",
    "# 3. Select the Left vs Right vs Two-Tailed test, as per the hypothesis\n",
    "alternative = \"greater\"\n",
    "\n",
    "# 4. Compute the P-Value\n",
    "sampleMean = 110\n",
    "sampleSize = 50\n",
    "populationMean = 100\n",
    "populationStd = 15\n",
    "\n",
    "p, z, zRejectionRange = test(sampleMean, sampleSize, populationMean, populationStd, alternative, alpha)\n",
    "print(f\"p value = {p}\")\n",
    "print(f\"zRejectionRange = {zRejectionRange}, z = {z}\")\n",
    "\n",
    "# 5. Compare the P-Value to the Significance Level (α) and conclude the test.\n",
    "alpha = 0.05\n",
    "\n",
    "if p < alpha:\n",
    "    print(f\"Reject: {H0}\")\n",
    "else:\n",
    "    print(f\"Failed to reject: {H0}\")"
   ]
  },
  {
   "cell_type": "markdown",
   "metadata": {},
   "source": [
    "Question 8\n",
    "\n",
    "When smokers smoke, nicotine is transformed into cotinine, which can be tested.\n",
    "\n",
    "The average cotinine level in a group of 50 smokers was 243.5 ng ml.\n",
    "\n",
    "Assuming that the standard deviation is known to be 229.5 ng ml.\n",
    "\n",
    "Test the assertion that the mean cotinine level of all smokers is equal to 300.0 ng ml, at 95% confidence."
   ]
  },
  {
   "cell_type": "code",
   "execution_count": 17,
   "metadata": {},
   "outputs": [
    {
     "name": "stdout",
     "output_type": "stream",
     "text": [
      "p value = 0.08171731915149638\n",
      "zRejectionRange = (-1.959963984540054, 1.959963984540054), z = -1.7408075440976007\n",
      "Failed to reject: Average cotinine level in smokers = 300\n"
     ]
    }
   ],
   "source": [
    "alpha = 0.05\n",
    "\n",
    "# Framework for hypothesis testing\n",
    "# 1. Setup Null and Alternate Hypothesis\n",
    "H0 = \"Average cotinine level in smokers = 300\"\n",
    "H1 = \"Average cotinine level in smokers != 300\"\n",
    "\n",
    "# 2. Choose the test statistic\n",
    "test = zTest\n",
    "\n",
    "# 3. Select the Left vs Right vs Two-Tailed test, as per the hypothesis\n",
    "alternative = \"two-sided\"\n",
    "\n",
    "# 4. Compute the P-Value\n",
    "sampleMean = 243.5\n",
    "sampleSize = 50\n",
    "populationMean = 300\n",
    "populationStd = 229.5\n",
    "\n",
    "p, z, zRejectionRange = test(sampleMean, sampleSize, populationMean, populationStd, alternative, alpha)\n",
    "print(f\"p value = {p}\")\n",
    "print(f\"zRejectionRange = {zRejectionRange}, z = {z}\")\n",
    "\n",
    "# 5. Compare the P-Value to the Significance Level (α) and conclude the test.\n",
    "alpha = 0.05\n",
    "\n",
    "if p < alpha:\n",
    "    print(f\"Reject: {H0}\")\n",
    "else:\n",
    "    print(f\"Failed to reject: {H0}\")"
   ]
  },
  {
   "cell_type": "markdown",
   "metadata": {},
   "source": [
    "### 37: Z test - continued"
   ]
  },
  {
   "cell_type": "markdown",
   "metadata": {},
   "source": [
    "Question 1\n",
    "\n",
    "The average hourly wage of a sample of 150 workers in plant 'A' was Rs.2·87 with a standard deviation of Rs. 1·08.\n",
    "\n",
    "The average wage of a sample of 200 workers in plant 'B' was Rs. 2·56 with a standard deviation of Rs. 1·28.\n",
    "\n",
    "(i) Calculate the Z-score for this scenario.\n",
    "\n",
    "(ii) Can an applicant safely assume that the hourly wages paid by plant 'A' are higher than those paid by plant 'B' at a 1% significance level?"
   ]
  },
  {
   "cell_type": "code",
   "execution_count": null,
   "metadata": {},
   "outputs": [],
   "source": []
  }
 ],
 "metadata": {
  "kernelspec": {
   "display_name": "Python 3",
   "language": "python",
   "name": "python3"
  },
  "language_info": {
   "codemirror_mode": {
    "name": "ipython",
    "version": 3
   },
   "file_extension": ".py",
   "mimetype": "text/x-python",
   "name": "python",
   "nbconvert_exporter": "python",
   "pygments_lexer": "ipython3",
   "version": "3.10.13"
  }
 },
 "nbformat": 4,
 "nbformat_minor": 2
}
